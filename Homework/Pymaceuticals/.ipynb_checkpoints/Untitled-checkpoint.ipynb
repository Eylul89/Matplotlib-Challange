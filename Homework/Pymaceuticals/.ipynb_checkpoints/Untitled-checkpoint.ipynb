{
 "cells": [
  {
   "cell_type": "code",
   "execution_count": null,
   "metadata": {},
   "outputs": [],
   "source": [
    "mouse_data = pd.read_csv('../data/clinicaltrial_data.csv')\n",
    "mouse_data.head()\n",
    "\n",
    "Drug_data = pd.read_csv('../data/mouse_drug_data.csv')\n",
    "Drug_data.head()"
   ]
  }
 ],
 "metadata": {
  "kernelspec": {
   "display_name": "Python 3",
   "language": "python",
   "name": "python3"
  }
 },
 "nbformat": 4,
 "nbformat_minor": 2
}
